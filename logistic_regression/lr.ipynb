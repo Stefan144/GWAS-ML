{
 "cells": [
  {
   "cell_type": "code",
   "execution_count": 1,
   "id": "98876c1a-c743-4784-aab4-70cb0dc57bb1",
   "metadata": {},
   "outputs": [],
   "source": [
    "import os\n",
    "import sys\n",
    "import json\n",
    "import numpy as np\n",
    "import pandas as pd\n",
    "import matplotlib.pyplot as plt\n",
    "from tqdm import tqdm\n",
    "from sklearn.model_selection import StratifiedKFold, GridSearchCV\n",
    "from sklearn.linear_model import LogisticRegression\n",
    "from sklearn.metrics import classification_report, make_scorer, recall_score\n",
    "from sklearn.preprocessing import OneHotEncoder\n",
    "#SCRIPT_DIR = os.path.dirname(os.path.abspath(__file__))\n",
    "#sys.path.append(os.path.dirname(SCRIPT_DIR))\n",
    "#from config import RANDOM_STATE, N_SPLITS, features_path, targets_path, gwas_results_path, data_path"
   ]
  },
  {
   "cell_type": "markdown",
   "id": "e6949c53-4838-4c79-b63a-7d727316dc25",
   "metadata": {},
   "source": [
    "### Grid Search"
   ]
  },
  {
   "cell_type": "code",
   "execution_count": 2,
   "id": "0d8e805b-5f9d-4d00-969c-f3e57b7d7462",
   "metadata": {},
   "outputs": [],
   "source": [
    "param_grid = [\n",
    "  {'C': [0.01, 0.1, 1, 10, 100], 'fit_intercept': [True, False], 'class_weight': [None, 'balanced'], \n",
    "   'max_iter': [1000], 'random_state': [42], 'solver': ['lbfgs'], 'penalty': ['l2', 'none']},\n",
    "  {'C': [0.01, 0.1, 1, 10, 100], 'fit_intercept': [True, False], 'class_weight': [None, 'balanced'],\n",
    "    'max_iter': [1000], 'random_state': [42], 'solver': ['liblinear'], 'penalty': ['l2'],\n",
    "   'dual': [False, True]},\n",
    "  {'C': [0.01, 0.1, 1, 10, 100], 'fit_intercept': [True, False], 'class_weight': [None, 'balanced'],\n",
    "    'max_iter': [1000], 'random_state': [42], 'solver': ['liblinear'], 'penalty': ['l1']},\n",
    "]"
   ]
  },
  {
   "cell_type": "code",
   "execution_count": 3,
   "id": "23d44714-f71b-4b45-8e79-7cc7874d9284",
   "metadata": {},
   "outputs": [],
   "source": [
    "data = np.load(\"../stroke_data/features\")\n",
    "pvals = np.load('../stroke_data/features_p_values')\n",
    "targets = np.array(np.load(\"../stroke_data/targets\", allow_pickle=True)) - 1 # (1, 2) -> (0, 1)\n",
    "data = data[:, np.argsort(pvals)[:30000]] # 30000"
   ]
  },
  {
   "cell_type": "code",
   "execution_count": 6,
   "id": "09c8ff2c-2be6-49b4-bd34-c76a624deed4",
   "metadata": {},
   "outputs": [],
   "source": [
    "lr = LogisticRegression()\n",
    "recall_class_zero = make_scorer(recall_score, pos_label=0)\n",
    "clf = GridSearchCV(lr, param_grid, \n",
    "                   scoring={'recall 0': recall_class_zero,\n",
    "                            'f1 macro': 'f1_macro',\n",
    "                            'accuracy': 'accuracy'},\n",
    "                   refit='recall 0',\n",
    "                   cv=5,\n",
    "                   verbose=0,\n",
    "                   error_score=0)"
   ]
  },
  {
   "cell_type": "code",
   "execution_count": 7,
   "id": "1ef36750-8e6e-494e-9f22-b1bb20ebdb51",
   "metadata": {},
   "outputs": [],
   "source": [
    "%%capture output\n",
    "clf.fit(data, targets)"
   ]
  },
  {
   "cell_type": "code",
   "execution_count": 16,
   "id": "e5a44459-f10d-46fa-94d3-e8198853150c",
   "metadata": {},
   "outputs": [
    {
     "data": {
      "text/plain": [
       "{'C': 0.01,\n",
       " 'class_weight': 'balanced',\n",
       " 'fit_intercept': True,\n",
       " 'max_iter': 1000,\n",
       " 'penalty': 'l2',\n",
       " 'random_state': 42,\n",
       " 'solver': 'lbfgs'}"
      ]
     },
     "execution_count": 16,
     "metadata": {},
     "output_type": "execute_result"
    }
   ],
   "source": [
    "clf.cv_results_[\"params\"][np.argmax(clf.cv_results_[\"mean_test_recall 0\"])]"
   ]
  },
  {
   "cell_type": "code",
   "execution_count": 17,
   "id": "b9d44ad2-c9bd-46b0-a46c-3d34de541800",
   "metadata": {},
   "outputs": [],
   "source": [
    "enc = OneHotEncoder()\n",
    "oh_data = enc.fit_transform(data)"
   ]
  },
  {
   "cell_type": "code",
   "execution_count": 20,
   "id": "3cb49367-0a00-4c69-bede-b704ae81a760",
   "metadata": {},
   "outputs": [],
   "source": [
    "lr = LogisticRegression()\n",
    "recall_class_zero = make_scorer(recall_score, pos_label=0)\n",
    "oh_clf = GridSearchCV(lr, param_grid, \n",
    "                   scoring={'recall 0': recall_class_zero,\n",
    "                            'f1 macro': 'f1_macro',\n",
    "                            'accuracy': 'accuracy'},\n",
    "                   refit='recall 0',\n",
    "                   cv=5,\n",
    "                   verbose=0,\n",
    "                   error_score=0,\n",
    "                   n_jobs=-1)"
   ]
  },
  {
   "cell_type": "code",
   "execution_count": 21,
   "id": "356394b0-c94b-48a0-83df-e741bcd238fb",
   "metadata": {},
   "outputs": [],
   "source": [
    "%%capture output\n",
    "oh_clf.fit(data, targets)"
   ]
  },
  {
   "cell_type": "code",
   "execution_count": 23,
   "id": "27b1d724-17a9-48ef-aaac-ae12ad646c56",
   "metadata": {},
   "outputs": [
    {
     "data": {
      "text/plain": [
       "{'C': 0.01,\n",
       " 'class_weight': 'balanced',\n",
       " 'fit_intercept': True,\n",
       " 'max_iter': 1000,\n",
       " 'penalty': 'l2',\n",
       " 'random_state': 42,\n",
       " 'solver': 'lbfgs'}"
      ]
     },
     "execution_count": 23,
     "metadata": {},
     "output_type": "execute_result"
    }
   ],
   "source": [
    "oh_clf.cv_results_[\"params\"][np.argmax(oh_clf.cv_results_[\"mean_test_recall 0\"])]"
   ]
  }
 ],
 "metadata": {
  "kernelspec": {
   "display_name": "Python 3 (ipykernel)",
   "language": "python",
   "name": "python3"
  },
  "language_info": {
   "codemirror_mode": {
    "name": "ipython",
    "version": 3
   },
   "file_extension": ".py",
   "mimetype": "text/x-python",
   "name": "python",
   "nbconvert_exporter": "python",
   "pygments_lexer": "ipython3",
   "version": "3.10.12"
  }
 },
 "nbformat": 4,
 "nbformat_minor": 5
}
